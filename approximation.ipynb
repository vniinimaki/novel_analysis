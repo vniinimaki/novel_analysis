{
 "cells": [
  {
   "cell_type": "code",
   "execution_count": 5,
   "metadata": {},
   "outputs": [],
   "source": [
    "import nltk\n",
    "import networkx as nx\n",
    "import matplotlib.pyplot as plt\n",
    "import powerlaw\n",
    "import community as community_louvain\n",
    "import matplotlib.cm as cm"
   ]
  },
  {
   "cell_type": "code",
   "execution_count": 6,
   "metadata": {},
   "outputs": [],
   "source": [
    "# Open the file with character names\n",
    "with open('characters.txt', 'r', encoding='utf-8') as f:\n",
    "    characters = [line.strip().split(',') for line in f]\n",
    "# Initialize a graph\n",
    "G = nx.Graph()\n",
    "    \n",
    "# Add nodes to the graph\n",
    "for character_list in characters:\n",
    "    G.add_node(character_list[0])\n",
    "\n",
    "# Open the second file\n",
    "with open('count_of_monte_cristo.txt', 'r', encoding='utf-8') as f:\n",
    "    # Read the entire file content\n",
    "    text = f.read()\n",
    "\n",
    "# Tokenize the text into sentences\n",
    "sentences = nltk.sent_tokenize(text)\n",
    "\n",
    "# For each sentence, check if any of the aliases are in the sentence\n",
    "for sentence in sentences:\n",
    "    # Find all characters present in the sentence\n",
    "    characters_in_sentence = [character_list[0] for character_list in characters if any(alias in sentence for alias in character_list)]\n",
    "    # Add edges between all pairs of characters in the sentence\n",
    "    for i in range(len(characters_in_sentence)):\n",
    "        for j in range(i+1, len(characters_in_sentence)):\n",
    "            if characters_in_sentence[i] != characters_in_sentence[j]:  # Check if the characters are different\n",
    "                # Add the edge without weight\n",
    "                G.add_edge(characters_in_sentence[i], characters_in_sentence[j])"
   ]
  },
  {
   "cell_type": "code",
   "execution_count": 81,
   "metadata": {},
   "outputs": [
    {
     "name": "stdout",
     "output_type": "stream",
     "text": [
      "Average Clustering Coefficient: 0.5939336224917304\n",
      "Diameter: 3\n"
     ]
    }
   ],
   "source": [
    "# Calculate average clustering coefficient\n",
    "avg_clustering_coefficient = nx.average_clustering(G)\n",
    "\n",
    "# Calculate diameter\n",
    "diameter = nx.diameter(G)\n",
    "\n",
    "# Print the results\n",
    "print(\"Average Clustering Coefficient:\", avg_clustering_coefficient)\n",
    "print(\"Diameter:\", diameter)\n"
   ]
  },
  {
   "cell_type": "code",
   "execution_count": 101,
   "metadata": {},
   "outputs": [
    {
     "name": "stdout",
     "output_type": "stream",
     "text": [
      "Best matching p value for Watts Strogatz graph: with a difference of 0.3 0.42677502351494967\n",
      "Best matching p value for Erdos-Rényi graph: 0.3 with a difference of 1.2933392356965514\n"
     ]
    }
   ],
   "source": [
    "\n",
    "# Initialize variables to store the best matching p value and the difference in average clustering coefficient and diameter\n",
    "best_p = None\n",
    "min_diff = float('inf')\n",
    "number_of_nodes = G.number_of_nodes()\n",
    "# Get the degrees of all nodes\n",
    "degrees = [deg for node, deg in G.degree()]\n",
    "\n",
    "# Calculate the average degree\n",
    "average_degree = sum(degrees) / len(degrees)\n",
    "\n",
    "# Iterate over a range of p values\n",
    "for p in [0.1, 0.2, 0.3, 0.4, 0.5, 0.6, 0.7, 0.8, 0.9]:\n",
    "    # Generate a Watts-Strogatz graph\n",
    "    WS = nx.watts_strogatz_graph(number_of_nodes, round(average_degree), p)\n",
    "    # Calculate the average clustering coefficient\n",
    "    avg_clustering_coefficient_WS = nx.average_clustering(WS)\n",
    "    # Calculate the diameter\n",
    "    diameter_WS = nx.diameter(WS)\n",
    "\n",
    "    diff = abs(avg_clustering_coefficient_WS - avg_clustering_coefficient) + abs(diameter_WS - diameter)\n",
    "    # Check if the current p value is better than the previous best p value\n",
    "    if diff < min_diff:\n",
    "        best_p = p\n",
    "        min_diff = diff\n",
    "\n",
    "\n",
    "# Print the best matching p value\n",
    "print(\"Best matching p value for Watts Strogatz graph:\", best_p, \"with a difference of\", diff)\n",
    "diff = None\n",
    "# Iterate over a range of p values\n",
    "for p in [0.1, 0.2, 0.3, 0.4, 0.5, 0.6, 0.7, 0.8, 0.9]:\n",
    "    # Generate an Erdos-Rényi graph\n",
    "    ER = nx.erdos_renyi_graph(number_of_nodes, p)\n",
    "\n",
    "    # Calculate the average clustering coefficient\n",
    "    avg_clustering_coefficient_ER = nx.average_clustering(ER)\n",
    "    # Calculate the diameter\n",
    "    diameter_ER = nx.diameter(ER)\n",
    "\n",
    "    diff = abs(avg_clustering_coefficient_ER - avg_clustering_coefficient) + abs(diameter_ER - diameter)\n",
    "    # Check if the current p value is better than the previous best p value\n",
    "    if diff < min_diff:\n",
    "        best_p = p\n",
    "        min_diff = diff\n",
    "\n",
    "# Print the best matching p value\n",
    "print(\"Best matching p value for Erdos-Rényi graph:\", best_p, \"with a difference of\", diff)\n",
    "\n",
    "\n"
   ]
  }
 ],
 "metadata": {
  "kernelspec": {
   "display_name": "Python 3",
   "language": "python",
   "name": "python3"
  },
  "language_info": {
   "codemirror_mode": {
    "name": "ipython",
    "version": 3
   },
   "file_extension": ".py",
   "mimetype": "text/x-python",
   "name": "python",
   "nbconvert_exporter": "python",
   "pygments_lexer": "ipython3",
   "version": "3.12.2"
  }
 },
 "nbformat": 4,
 "nbformat_minor": 2
}
